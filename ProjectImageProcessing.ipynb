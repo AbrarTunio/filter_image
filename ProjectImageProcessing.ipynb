{
 "cells": [
  {
   "cell_type": "code",
   "execution_count": 1,
   "id": "color-sample",
   "metadata": {},
   "outputs": [],
   "source": [
    "#First of all install cImage module for pypi.org\n",
    "#pip install cImage"
   ]
  },
  {
   "cell_type": "code",
   "execution_count": null,
   "id": "technological-bryan",
   "metadata": {},
   "outputs": [],
   "source": [
    "#pip install cImage\n",
    "#This will only good for gif images therefore install thony as well"
   ]
  },
  {
   "cell_type": "code",
   "execution_count": null,
   "id": "earlier-samba",
   "metadata": {},
   "outputs": [],
   "source": [
    "#pip install thonny-cImage"
   ]
  },
  {
   "cell_type": "code",
   "execution_count": null,
   "id": "ethical-exemption",
   "metadata": {},
   "outputs": [],
   "source": [
    "import image"
   ]
  },
  {
   "cell_type": "code",
   "execution_count": null,
   "id": "wired-behalf",
   "metadata": {},
   "outputs": [],
   "source": [
    "#create an image with red=45,green=75,blue=55\n",
    "new_image = image.Pixel(45,75,230)"
   ]
  },
  {
   "cell_type": "code",
   "execution_count": null,
   "id": "residential-bible",
   "metadata": {},
   "outputs": [],
   "source": [
    "#what are pixel values for RGB\n",
    "print(    new_image.getRed()   )\n",
    "print(    new_image.getGreen()   )\n",
    "print(    new_image.getBlue()   )\n"
   ]
  },
  {
   "cell_type": "code",
   "execution_count": null,
   "id": "essential-replica",
   "metadata": {},
   "outputs": [],
   "source": [
    "new_image.setRed(66)\n",
    "new_image.setGreen(22)\n",
    "new_image.setBlue(new_image.getGreen())"
   ]
  },
  {
   "cell_type": "code",
   "execution_count": null,
   "id": "innocent-nurse",
   "metadata": {},
   "outputs": [],
   "source": [
    "#what are pixel values for RGB\n",
    "print(    new_image.getRed()   )\n",
    "print(    new_image.getGreen()   )\n",
    "print(    new_image.getBlue()   )"
   ]
  },
  {
   "cell_type": "code",
   "execution_count": null,
   "id": "mobile-credit",
   "metadata": {},
   "outputs": [],
   "source": [
    "add_image = image.Image(\"timelogo.png\")"
   ]
  },
  {
   "cell_type": "code",
   "execution_count": null,
   "id": "destroyed-compression",
   "metadata": {},
   "outputs": [],
   "source": [
    "print( add_image.getWidth() )\n",
    "print( add_image.getHeight())"
   ]
  },
  {
   "cell_type": "code",
   "execution_count": null,
   "id": "flush-recruitment",
   "metadata": {},
   "outputs": [],
   "source": [
    "spot = add_image.getPixel(800,400)\n",
    "print(spot.getRed(),spot.getGreen(),spot.getBlue())"
   ]
  },
  {
   "cell_type": "code",
   "execution_count": null,
   "id": "stable-involvement",
   "metadata": {},
   "outputs": [],
   "source": [
    "screen = image.ImageWin(add_image.getWidth(),add_image.getHeight())\n",
    "add_image.draw(screen)\n",
    "#add_image.setDelay(1,15)\n",
    "for r in range(add_image.getHeight()):\n",
    "    for c in range(add_image.getWidth()):\n",
    "        p = add_image.getPixel(c,r)\n",
    "        if p.getRed() == 255 and p.getGreen() == 255 and p.getBlue() == 255: \n",
    "            new_red = 255 - p.getRed()\n",
    "            new_green = 255 - p.getGreen()\n",
    "            new_blue = 255 - p.getBlue()            \n",
    "        else:\n",
    "            new_red = p.getRed()\n",
    "            new_green = p.getGreen()\n",
    "            new_blue = p.getBlue() \n",
    "        newpixel = image.Pixel(new_red,new_green,new_blue)\n",
    "        add_image.setPixel(c,r,newpixel)\n",
    "    add_image.draw(screen)\n",
    "screen.exitonclick()"
   ]
  },
  {
   "cell_type": "code",
   "execution_count": null,
   "id": "03742f21",
   "metadata": {},
   "outputs": [],
   "source": []
  }
 ],
 "metadata": {
  "kernelspec": {
   "display_name": "Python 3.10.5 64-bit",
   "language": "python",
   "name": "python3"
  },
  "language_info": {
   "codemirror_mode": {
    "name": "ipython",
    "version": 3
   },
   "file_extension": ".py",
   "mimetype": "text/x-python",
   "name": "python",
   "nbconvert_exporter": "python",
   "pygments_lexer": "ipython3",
   "version": "3.10.5"
  },
  "vscode": {
   "interpreter": {
    "hash": "9262dabc7eebb118874e6edbe15920ade21593f4f0f70a7259bef6339bda4e4c"
   }
  }
 },
 "nbformat": 4,
 "nbformat_minor": 5
}
